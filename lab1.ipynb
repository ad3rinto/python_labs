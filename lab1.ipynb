{
 "cells": [
  {
   "cell_type": "code",
   "execution_count": 1,
   "id": "e3b0c1f5-c91b-4f9b-8765-3fc4accba005",
   "metadata": {},
   "outputs": [
    {
     "name": "stdout",
     "output_type": "stream",
     "text": [
      "Welcome to the tip calculator\n"
     ]
    }
   ],
   "source": [
    "print(\"Welcome to the tip calculator\")"
   ]
  },
  {
   "cell_type": "code",
   "execution_count": 4,
   "id": "e94a660b-6c45-4c00-87d3-36d7e794d360",
   "metadata": {},
   "outputs": [
    {
     "name": "stdin",
     "output_type": "stream",
     "text": [
      "What was the total bill? \n",
      " 121\n",
      "Shared between how many people? \n",
      " 2\n",
      "Tip percent ? 12\n"
     ]
    },
    {
     "name": "stdout",
     "output_type": "stream",
     "text": [
      "Each person should pay 67.76\n"
     ]
    }
   ],
   "source": [
    "total_bill = float(input(\"What was the total bill? \\n\"))\n",
    "number_of_persons = int(input(\"Shared between how many people? \\n\"))\n",
    "tip = int(input(\"Tip percent ?\"))\n",
    "\n",
    "amount_to_be_paid = round((total_bill/number_of_persons) *(1 + (tip/100)),2)\n",
    "\n",
    "print(f\"Each person should pay {amount_to_be_paid}\")"
   ]
  },
  {
   "cell_type": "markdown",
   "id": "452928ee-c9e6-4c29-83a9-2d6d2955c10f",
   "metadata": {},
   "source": [
    "** COnditionals**"
   ]
  },
  {
   "cell_type": "code",
   "execution_count": 8,
   "id": "fc413fc3-90e5-4553-9c83-5d60544ef049",
   "metadata": {},
   "outputs": [
    {
     "name": "stdout",
     "output_type": "stream",
     "text": [
      "Welcome to the rollercoaster\n"
     ]
    },
    {
     "name": "stdin",
     "output_type": "stream",
     "text": [
      "HOw tall are you? \n",
      " 1.2\n"
     ]
    },
    {
     "name": "stdout",
     "output_type": "stream",
     "text": [
      "SOrry, you are too short\n"
     ]
    }
   ],
   "source": [
    "print(\"Welcome to the rollercoaster\")\n",
    "height = float(input(\"HOw tall are you? \\n\"))\n",
    "if height > 1.75:\n",
    "    print(\"Enjoy the ride\")\n",
    "else:\n",
    "    print(\"SOrry, you are too short\")"
   ]
  },
  {
   "cell_type": "markdown",
   "id": "8389f953-4f0c-4900-aa48-f80b68caf755",
   "metadata": {},
   "source": [
    "***BMI Calculat0r***\n"
   ]
  },
  {
   "cell_type": "markdown",
   "id": "06efd601-b074-4d91-a5ec-02d22649b2b6",
   "metadata": {},
   "source": [
    "height = float(input(\"What is your height?\\n\"))\n",
    "weight = float(input(\"What do you weight in Kilograms??\\n\"))\n",
    "bmi = round(weight/height**2, 2)\n",
    "if bmi < 18.5:\n",
    "    print(\"You are underweight\", bmi)\n",
    "elif bmi <= 25:\n",
    "    print(\"YOu are normal\", bmi)\n",
    "elif bmi < 30:\n",
    "    print(\"you are slightly overweight\", bmi)\n",
    "else:\n",
    "    print(\"YOu are obsese\", bmi)"
   ]
  },
  {
   "cell_type": "markdown",
   "id": "54dc9c1c-f451-4220-9ee9-1ab84b7b7a31",
   "metadata": {},
   "source": [
    "***Check for Leap year***\n"
   ]
  },
  {
   "cell_type": "markdown",
   "id": "43efc477-5d35-4c04-9f95-4428db3993fa",
   "metadata": {},
   "source": [
    "birth_year = int(input(\"What year were you born? \"))\n",
    "if (birth_year %4 == 0):\n",
    "    if birth_year % 100 == 0:\n",
    "        if (birth_year %400 == 0) :\n",
    "            print(\"Leap year\")\n",
    "        else:\n",
    "            print(\"This is not leap year\", birth_year)\n",
    "    else:\n",
    "        print(\"Leap year\")\n",
    "else:\n",
    "    print(\"Not a leap year\")\n",
    "    "
   ]
  },
  {
   "cell_type": "code",
   "execution_count": null,
   "id": "fafeddf9-2e41-4ba9-afb4-62631c81da4b",
   "metadata": {},
   "outputs": [],
   "source": [
    "2000\n"
   ]
  },
  {
   "cell_type": "code",
   "execution_count": 40,
   "id": "1c98459b-c913-4416-b340-3618222c5a96",
   "metadata": {},
   "outputs": [
    {
     "name": "stdin",
     "output_type": "stream",
     "text": [
      "What year were you born?  2023\n"
     ]
    },
    {
     "name": "stdout",
     "output_type": "stream",
     "text": [
      "This is a leap year 2023\n"
     ]
    }
   ],
   "source": [
    "birth_year = int(input(\"What year were you born? \"))\n",
    "if (birth_year %4 == 0) and birth_year % 100 == 0:\n",
    "    if birth_year %400 == 0:\n",
    "        print(\"Leap year\")\n",
    "    else:\n",
    "        print('Not a leap year')\n",
    "else:\n",
    "    print(\"This is a leap year\", birth_year)"
   ]
  },
  {
   "cell_type": "markdown",
   "id": "8e74593d-cfdb-4e6b-94b0-1ed59d18b409",
   "metadata": {},
   "source": [
    "***PIZZA ORDERING SERVICE***"
   ]
  },
  {
   "cell_type": "code",
   "execution_count": 1,
   "id": "586bb9b0-06e3-4fda-8ce9-8769fdcbaeab",
   "metadata": {},
   "outputs": [
    {
     "name": "stdout",
     "output_type": "stream",
     "text": [
      "Thank you for choosing python pizza deliveries\n",
      "What size of pizza do you want ?:\n",
      "L\n",
      "Do you want pepperonis?, Y or NO\n",
      "N\n",
      "Do you want extra cheese? Y or N? \n",
      "N\n",
      "20\n"
     ]
    }
   ],
   "source": [
    "print(\"Thank you for choosing python pizza deliveries\")\n",
    "size = input(\"What size of pizza do you want ?:\\n\").lower()\n",
    "add_pep = input(\"Do you want pepperonis?, Y or NO\\n\").capitalize()\n",
    "add_cheese = input(\"Do you want extra cheese? Y or N? \\n\").capitalize()\n",
    "pizza_price ={\"l\" :20,\"m\":15,\"s\":5}\n",
    "\n",
    "bill = pizza_price[size]\n",
    "if add_pep == \"Y\":\n",
    "    bill += 5\n",
    "if add_cheese == \"Y\":\n",
    "    bill += 2.5\n",
    "\n",
    "print(bill)"
   ]
  },
  {
   "cell_type": "code",
   "execution_count": 2,
   "id": "76bbeea8-9536-4a3e-acd5-ca641f529883",
   "metadata": {},
   "outputs": [
    {
     "name": "stdout",
     "output_type": "stream",
     "text": [
      "Thank you for choosing python pizza deliveries\n",
      "What size of pizza do you want ?:\n",
      "L\n",
      "Do you want pepperonis?, Y or NO\n",
      "Y\n",
      "Do you want extra cheese? Y or N? \n",
      "Y\n",
      "20\n"
     ]
    }
   ],
   "source": [
    "print(\"Thank you for choosing python pizza deliveries\")\n",
    "size = input(\"What size of pizza do you want ?:\\n\").lower()\n",
    "add_pep = input(\"Do you want pepperonis?, Y or NO\\n\").capitalize()\n",
    "add_cheese = input(\"Do you want extra cheese? Y or N? \\n\").capitalize()\n",
    "pizza_price ={\"l\" :20,\"m\":15,\"s\":5}\n",
    "\n",
    "bill = pizza_price[size]\n",
    "\n",
    "if add_pep == \"y\" and add_cheese == \"y\":\n",
    "    bill += 21\n",
    "else:\n",
    "    bill += 0\n",
    "print(bill)"
   ]
  },
  {
   "cell_type": "markdown",
   "id": "55a078a0",
   "metadata": {},
   "source": [
    "****Love Calculator****\n"
   ]
  },
  {
   "cell_type": "code",
   "execution_count": 9,
   "id": "76c59fa8",
   "metadata": {},
   "outputs": [
    {
     "name": "stdout",
     "output_type": "stream",
     "text": [
      "Provide name 1\n",
      "Jennifer Anniston\n",
      "provide name 2\n",
      "brad pitt\n",
      "7\n"
     ]
    }
   ],
   "source": [
    "fName = input(\"Provide name 1\\n\").lower()\n",
    "sName = input(\"provide name 2\\n\").lower()\n",
    "comp_name = fName + sName\n",
    "score1 = 0\n",
    "score2 = 0\n",
    "\n",
    "t = comp_name.count(\"t\")\n",
    "r = comp_name.count(\"r\")\n",
    "u = comp_name.count(\"u\")\n",
    "e = comp_name.count(\"e\")\n",
    "\n",
    "score1 = int(t)+int(r)+int(u)+int(e)\n",
    "print(score1)\n",
    "\n",
    "l = comp_name.count(\"l\")\n",
    "o = comp_name.count(\"o\")\n",
    "v = comp_name.count(\"v\")\n",
    "e = comp_name.count(\"e\")\n",
    "\n",
    "score2 = int(l)+int(o)+int(v)+int(e)\n",
    "print(score1)\n",
    "\n",
    "print(f\"Your true love score is {score1}{score2})"
   ]
  },
  {
   "cell_type": "code",
   "execution_count": null,
   "id": "c7e63fb5",
   "metadata": {},
   "outputs": [],
   "source": []
  }
 ],
 "metadata": {
  "kernelspec": {
   "display_name": "Python 3 (ipykernel)",
   "language": "python",
   "name": "python3"
  },
  "language_info": {
   "codemirror_mode": {
    "name": "ipython",
    "version": 3
   },
   "file_extension": ".py",
   "mimetype": "text/x-python",
   "name": "python",
   "nbconvert_exporter": "python",
   "pygments_lexer": "ipython3",
   "version": "3.11.4"
  }
 },
 "nbformat": 4,
 "nbformat_minor": 5
}
