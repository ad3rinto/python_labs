{
 "cells": [
  {
   "cell_type": "code",
   "execution_count": 1,
   "id": "e3b0c1f5-c91b-4f9b-8765-3fc4accba005",
   "metadata": {},
   "outputs": [
    {
     "name": "stdout",
     "output_type": "stream",
     "text": [
      "Welcome to the tip calculator\n"
     ]
    }
   ],
   "source": [
    "print(\"Welcome to the tip calculator\")"
   ]
  },
  {
   "cell_type": "code",
   "execution_count": 4,
   "id": "e94a660b-6c45-4c00-87d3-36d7e794d360",
   "metadata": {},
   "outputs": [
    {
     "name": "stdin",
     "output_type": "stream",
     "text": [
      "What was the total bill? \n",
      " 121\n",
      "Shared between how many people? \n",
      " 2\n",
      "Tip percent ? 12\n"
     ]
    },
    {
     "name": "stdout",
     "output_type": "stream",
     "text": [
      "Each person should pay 67.76\n"
     ]
    }
   ],
   "source": [
    "total_bill = float(input(\"What was the total bill? \\n\"))\n",
    "number_of_persons = int(input(\"Shared between how many people? \\n\"))\n",
    "tip = int(input(\"Tip percent ?\"))\n",
    "\n",
    "amount_to_be_paid = round((total_bill/number_of_persons) *(1 + (tip/100)),2)\n",
    "\n",
    "print(f\"Each person should pay {amount_to_be_paid}\")"
   ]
  },
  {
   "cell_type": "markdown",
   "id": "452928ee-c9e6-4c29-83a9-2d6d2955c10f",
   "metadata": {},
   "source": [
    "** COnditionals**"
   ]
  },
  {
   "cell_type": "code",
   "execution_count": 8,
   "id": "fc413fc3-90e5-4553-9c83-5d60544ef049",
   "metadata": {},
   "outputs": [
    {
     "name": "stdout",
     "output_type": "stream",
     "text": [
      "Welcome to the rollercoaster\n"
     ]
    },
    {
     "name": "stdin",
     "output_type": "stream",
     "text": [
      "HOw tall are you? \n",
      " 1.2\n"
     ]
    },
    {
     "name": "stdout",
     "output_type": "stream",
     "text": [
      "SOrry, you are too short\n"
     ]
    }
   ],
   "source": [
    "print(\"Welcome to the rollercoaster\")\n",
    "height = float(input(\"HOw tall are you? \\n\"))\n",
    "if height > 1.75:\n",
    "    print(\"Enjoy the ride\")\n",
    "else:\n",
    "    print(\"SOrry, you are too short\")"
   ]
  },
  {
   "cell_type": "code",
   "execution_count": null,
   "id": "52e6af7f-4c9c-415a-9f00-43c20d00fdc2",
   "metadata": {},
   "outputs": [],
   "source": []
  }
 ],
 "metadata": {
  "kernelspec": {
   "display_name": "Python 3 (ipykernel)",
   "language": "python",
   "name": "python3"
  },
  "language_info": {
   "codemirror_mode": {
    "name": "ipython",
    "version": 3
   },
   "file_extension": ".py",
   "mimetype": "text/x-python",
   "name": "python",
   "nbconvert_exporter": "python",
   "pygments_lexer": "ipython3",
   "version": "3.9.13"
  }
 },
 "nbformat": 4,
 "nbformat_minor": 5
}
