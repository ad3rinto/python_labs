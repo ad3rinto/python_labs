{
 "cells": [
  {
   "cell_type": "code",
   "execution_count": 1,
   "id": "e3b0c1f5-c91b-4f9b-8765-3fc4accba005",
   "metadata": {},
   "outputs": [
    {
     "name": "stdout",
     "output_type": "stream",
     "text": [
      "Welcome to the tip calculator\n"
     ]
    }
   ],
   "source": [
    "print(\"Welcome to the tip calculator\")"
   ]
  },
  {
   "cell_type": "code",
   "execution_count": 4,
   "id": "e94a660b-6c45-4c00-87d3-36d7e794d360",
   "metadata": {},
   "outputs": [
    {
     "name": "stdin",
     "output_type": "stream",
     "text": [
      "What was the total bill? \n",
      " 121\n",
      "Shared between how many people? \n",
      " 2\n",
      "Tip percent ? 12\n"
     ]
    },
    {
     "name": "stdout",
     "output_type": "stream",
     "text": [
      "Each person should pay 67.76\n"
     ]
    }
   ],
   "source": [
    "total_bill = float(input(\"What was the total bill? \\n\"))\n",
    "number_of_persons = int(input(\"Shared between how many people? \\n\"))\n",
    "tip = int(input(\"Tip percent ?\"))\n",
    "\n",
    "amount_to_be_paid = round((total_bill/number_of_persons) *(1 + (tip/100)),2)\n",
    "\n",
    "print(f\"Each person should pay {amount_to_be_paid}\")"
   ]
  },
  {
   "cell_type": "markdown",
   "id": "452928ee-c9e6-4c29-83a9-2d6d2955c10f",
   "metadata": {},
   "source": [
    "** COnditionals**"
   ]
  },
  {
   "cell_type": "code",
   "execution_count": 8,
   "id": "fc413fc3-90e5-4553-9c83-5d60544ef049",
   "metadata": {},
   "outputs": [
    {
     "name": "stdout",
     "output_type": "stream",
     "text": [
      "Welcome to the rollercoaster\n"
     ]
    },
    {
     "name": "stdin",
     "output_type": "stream",
     "text": [
      "HOw tall are you? \n",
      " 1.2\n"
     ]
    },
    {
     "name": "stdout",
     "output_type": "stream",
     "text": [
      "SOrry, you are too short\n"
     ]
    }
   ],
   "source": [
    "print(\"Welcome to the rollercoaster\")\n",
    "height = float(input(\"HOw tall are you? \\n\"))\n",
    "if height > 1.75:\n",
    "    print(\"Enjoy the ride\")\n",
    "else:\n",
    "    print(\"SOrry, you are too short\")"
   ]
  },
  {
   "cell_type": "markdown",
   "id": "8389f953-4f0c-4900-aa48-f80b68caf755",
   "metadata": {},
   "source": [
    "***BMI Calculat0r***\n"
   ]
  },
  {
   "cell_type": "markdown",
   "id": "06efd601-b074-4d91-a5ec-02d22649b2b6",
   "metadata": {},
   "source": [
    "height = float(input(\"What is your height?\\n\"))\n",
    "weight = float(input(\"What do you weight in Kilograms??\\n\"))\n",
    "bmi = round(weight/height**2, 2)\n",
    "if bmi < 18.5:\n",
    "    print(\"You are underweight\", bmi)\n",
    "elif bmi <= 25:\n",
    "    print(\"YOu are normal\", bmi)\n",
    "elif bmi < 30:\n",
    "    print(\"you are slightly overweight\", bmi)\n",
    "else:\n",
    "    print(\"YOu are obsese\", bmi)"
   ]
  },
  {
   "cell_type": "markdown",
   "id": "54dc9c1c-f451-4220-9ee9-1ab84b7b7a31",
   "metadata": {},
   "source": [
    "***Check for Leap year***\n"
   ]
  },
  {
   "cell_type": "markdown",
   "id": "43efc477-5d35-4c04-9f95-4428db3993fa",
   "metadata": {},
   "source": [
    "birth_year = int(input(\"What year were you born? \"))\n",
    "if (birth_year %4 == 0):\n",
    "    if birth_year % 100 == 0:\n",
    "        if (birth_year %400 == 0) :\n",
    "            print(\"Leap year\")\n",
    "        else:\n",
    "            print(\"This is not leap year\", birth_year)\n",
    "    else:\n",
    "        print(\"Leap year\")\n",
    "else:\n",
    "    print(\"Not a leap year\")\n",
    "    "
   ]
  },
  {
   "cell_type": "code",
   "execution_count": null,
   "id": "fafeddf9-2e41-4ba9-afb4-62631c81da4b",
   "metadata": {},
   "outputs": [],
   "source": [
    "2000\n"
   ]
  },
  {
   "cell_type": "code",
   "execution_count": 40,
   "id": "1c98459b-c913-4416-b340-3618222c5a96",
   "metadata": {},
   "outputs": [
    {
     "name": "stdin",
     "output_type": "stream",
     "text": [
      "What year were you born?  2023\n"
     ]
    },
    {
     "name": "stdout",
     "output_type": "stream",
     "text": [
      "This is a leap year 2023\n"
     ]
    }
   ],
   "source": [
    "birth_year = int(input(\"What year were you born? \"))\n",
    "if (birth_year %4 == 0) and birth_year % 100 == 0:\n",
    "    if birth_year %400 == 0:\n",
    "        print(\"Leap year\")\n",
    "    else:\n",
    "        print('Not a leap year')\n",
    "else:\n",
    "    print(\"This is a leap year\", birth_year)"
   ]
  },
  {
   "cell_type": "markdown",
   "id": "8e74593d-cfdb-4e6b-94b0-1ed59d18b409",
   "metadata": {},
   "source": [
    "***PIZZA ORDERING SERVICE***"
   ]
  },
  {
   "cell_type": "code",
   "execution_count": 1,
   "id": "586bb9b0-06e3-4fda-8ce9-8769fdcbaeab",
   "metadata": {},
   "outputs": [
    {
     "name": "stdout",
     "output_type": "stream",
     "text": [
      "Thank you for choosing python pizza deliveries\n",
      "What size of pizza do you want ?:\n",
      "L\n",
      "Do you want pepperonis?, Y or NO\n",
      "N\n",
      "Do you want extra cheese? Y or N? \n",
      "N\n",
      "20\n"
     ]
    }
   ],
   "source": [
    "print(\"Thank you for choosing python pizza deliveries\")\n",
    "size = input(\"What size of pizza do you want ?:\\n\").lower()\n",
    "add_pep = input(\"Do you want pepperonis?, Y or NO\\n\").capitalize()\n",
    "add_cheese = input(\"Do you want extra cheese? Y or N? \\n\").capitalize()\n",
    "pizza_price ={\"l\" :20,\"m\":15,\"s\":5}\n",
    "\n",
    "bill = pizza_price[size]\n",
    "if add_pep == \"Y\":\n",
    "    bill += 5\n",
    "if add_cheese == \"Y\":\n",
    "    bill += 2.5\n",
    "\n",
    "print(bill)"
   ]
  },
  {
   "cell_type": "code",
   "execution_count": 2,
   "id": "76bbeea8-9536-4a3e-acd5-ca641f529883",
   "metadata": {},
   "outputs": [
    {
     "name": "stdout",
     "output_type": "stream",
     "text": [
      "Thank you for choosing python pizza deliveries\n",
      "What size of pizza do you want ?:\n",
      "L\n",
      "Do you want pepperonis?, Y or NO\n",
      "Y\n",
      "Do you want extra cheese? Y or N? \n",
      "Y\n",
      "20\n"
     ]
    }
   ],
   "source": [
    "print(\"Thank you for choosing python pizza deliveries\")\n",
    "size = input(\"What size of pizza do you want ?:\\n\").lower()\n",
    "add_pep = input(\"Do you want pepperonis?, Y or NO\\n\").capitalize()\n",
    "add_cheese = input(\"Do you want extra cheese? Y or N? \\n\").capitalize()\n",
    "pizza_price ={\"l\" :20,\"m\":15,\"s\":5}\n",
    "\n",
    "bill = pizza_price[size]\n",
    "\n",
    "if add_pep == \"y\" and add_cheese == \"y\":\n",
    "    bill += 21\n",
    "else:\n",
    "    bill += 0\n",
    "print(bill)"
   ]
  },
  {
   "cell_type": "markdown",
   "id": "913bb26e",
   "metadata": {},
   "source": [
    "****Love Calculator****\n"
   ]
  },
  {
   "cell_type": "code",
   "execution_count": 17,
   "id": "a98c789e",
   "metadata": {},
   "outputs": [
    {
     "name": "stdout",
     "output_type": "stream",
     "text": [
      "Provide name 1\n",
      "jennifer aniston\n",
      "provide name 2\n",
      "brad pitt\n",
      "7 Score 1\n",
      "3 score2\n",
      "Your true love score is 73\n"
     ]
    }
   ],
   "source": [
    "fName = input(\"Provide name 1\\n\").lower()\n",
    "sName = input(\"provide name 2\\n\").lower()\n",
    "comp_name = fName + sName\n",
    "score1 = 0\n",
    "score2 = 0\n",
    "       \n",
    "        \n",
    "t = comp_name.count(\"t\")\n",
    "r = comp_name.count(\"r\")\n",
    "u = comp_name.count(\"u\")\n",
    "e = comp_name.count(\"e\")\n",
    "\n",
    "score1 = int(t)+int(r)+int(u)+int(e)\n",
    "print(score1, \"Score 1\")\n",
    "\n",
    "l = comp_name.count(\"l\")\n",
    "o = comp_name.count(\"o\")\n",
    "v = comp_name.count(\"v\")\n",
    "e = comp_name.count(\"e\")\n",
    "\n",
    "score2 = int(l)+int(o)+int(v)+int(e)\n",
    "print(score2, \"score2\")\n",
    "\n",
    "print(f\"Your true love score is {score1}{score2}\")"
   ]
  },
  {
   "cell_type": "code",
   "execution_count": 23,
   "id": "fc5207fa",
   "metadata": {},
   "outputs": [
    {
     "name": "stdout",
     "output_type": "stream",
     "text": [
      "  _               _              _               \n",
      "| |             | |            (_)              \n",
      "| |__  _   _  __| |_      _____ _ ___  ___ _ __ \n",
      "| '_ \\| | | |/ _` \\ \\ /\\ / / _ \\ / __|/ _ \\ '__|\n",
      "| |_) | |_| | (_| |\\ V  V /  __/ \\__ \\  __/ |   \n",
      "|_.__/ \\__,_|\\__,_| \\_/\\_/ \\___|_|___/\\___|_|   \n",
      "Welcome to treasure Island. Your mission is to ...find the treasure. doh\n",
      "Will you like to go left or right? \n",
      "left\n",
      "Would you like to swim or wait? \n",
      "wait\n",
      "Which door will you like to open, Blue? Red? or Yellow?\n",
      "red\n",
      "Burned by fire, game over\n",
      "\n"
     ]
    }
   ],
   "source": [
    "print('''  _               _              _               \n",
    "| |             | |            (_)              \n",
    "| |__  _   _  __| |_      _____ _ ___  ___ _ __ \n",
    "| '_ \\| | | |/ _` \\ \\ /\\ / / _ \\ / __|/ _ \\ '__|\n",
    "| |_) | |_| | (_| |\\ V  V /  __/ \\__ \\  __/ |   \n",
    "|_.__/ \\__,_|\\__,_| \\_/\\_/ \\___|_|___/\\___|_|   ''')\n",
    "\n",
    "\n",
    "print(\"Welcome to treasure Island. Your mission is to ...find the treasure. doh\")\n",
    "\n",
    "step1 =input(\"Will you like to go left or right? \\n\").lower()\n",
    "if step1 == \"right\":\n",
    "    print(\"You just fell into a hole. game over\\n\")\n",
    "elif step1 == \"left\":\n",
    "    step2 =input(\"Would you like to swim or wait? \\n\").lower()\n",
    "    if step2 == \"swim\":\n",
    "        print(\"You have been attacked by a shark. Game over\\n\")\n",
    "    elif step2 == \"wait\":\n",
    "        step3 = input(\"Which door will you like to open, Blue? Red? or Yellow?\\n\")\n",
    "        if step3 == \"blue\":\n",
    "            print(\"Eaten by beasts, game over\\n\")\n",
    "        elif step3 == \"red\":\n",
    "            print(\"Burned by fire, game over\\n\")\n",
    "        elif step3 == \"yellow\":\n",
    "            print(\"WINNNER!!!!!\")\n",
    "        else:\n",
    "            print(\"Game over\")\n",
    "    else:\n",
    "        print (\"You have entered invalid details\\n\")\n",
    "        \n",
    "else:\n",
    "    print (\"You have entered invalid details\\n\")"
   ]
  },
  {
   "cell_type": "code",
   "execution_count": 35,
   "id": "309c44ec",
   "metadata": {},
   "outputs": [
    {
     "name": "stdout",
     "output_type": "stream",
     "text": [
      "4\n"
     ]
    }
   ],
   "source": [
    "import random\n",
    "test = random.randint(0,10)\n",
    "print(test)"
   ]
  },
  {
   "cell_type": "markdown",
   "id": "fcba661c",
   "metadata": {},
   "source": [
    "*** ROCK PAPER SCISSORS***\n"
   ]
  },
  {
   "cell_type": "code",
   "execution_count": 48,
   "id": "23b597ed",
   "metadata": {},
   "outputs": [
    {
     "name": "stdout",
     "output_type": "stream",
     "text": [
      "Enter 0 for rock, 1 for paper and 2 for scissor\n",
      "2\n",
      "player one played\n",
      "\n",
      ".d8888b  .d8888b888.d8888b .d8888b  .d88b. 888d888.d8888b  \n",
      "88K     d88P\"   88888K     88K     d88\"\"88b888P\"  88K      \n",
      "\"Y8888b.888     888\"Y8888b.\"Y8888b.888  888888    \"Y8888b. \n",
      "     X88Y88b.   888     X88     X88Y88..88P888         X88 \n",
      " 88888P' \"Y8888P888 88888P' 88888P' \"Y88P\" 888     88888P' \n",
      "\n",
      "computer played\n",
      "\n",
      ".d8888b  .d8888b888.d8888b .d8888b  .d88b. 888d888.d8888b  \n",
      "88K     d88P\"   88888K     88K     d88\"\"88b888P\"  88K      \n",
      "\"Y8888b.888     888\"Y8888b.\"Y8888b.888  888888    \"Y8888b. \n",
      "     X88Y88b.   888     X88     X88Y88..88P888         X88 \n",
      " 88888P' \"Y8888P888 88888P' 88888P' \"Y88P\" 888     88888P' \n",
      "\n",
      "This round was a tie\n"
     ]
    }
   ],
   "source": [
    "import random\n",
    "\n",
    "rock = '''\n",
    "                                             \n",
    "                                  88         \n",
    "                                  88         \n",
    "                                  88         \n",
    "8b,dPPYba,  ,adPPYba,   ,adPPYba, 88   ,d8   \n",
    "88P'   \"Y8 a8\"     \"8a a8\"     \"\" 88 ,a8\"    \n",
    "88         8b       d8 8b         8888[      \n",
    "88         \"8a,   ,a8\" \"8a,   ,aa 88`\"Yba,   \n",
    "88          `\"YbbdP\"'   `\"Ybbd8\"' 88   `Y8a  \n",
    "\n",
    "'''\n",
    "\n",
    "paper = '''\n",
    "8b,dPPYba,  ,adPPYYba, 8b,dPPYba,   ,adPPYba, 8b,dPPYba,  \n",
    "88P'    \"8a \"\"     `Y8 88P'    \"8a a8P_____88 88P'   \"Y8  \n",
    "88       d8 ,adPPPPP88 88       d8 8PP\"\"\"\"\"\"\" 88          \n",
    "88b,   ,a8\" 88,    ,88 88b,   ,a8\" \"8b,   ,aa 88          \n",
    "88`YbbdP\"'  `\"8bbdP\"Y8 88`YbbdP\"'   `\"Ybbd8\"' 88          \n",
    "88                     88                                 \n",
    "88                     88     \n",
    "\n",
    "'''\n",
    "\n",
    "scissors = '''\n",
    ".d8888b  .d8888b888.d8888b .d8888b  .d88b. 888d888.d8888b  \n",
    "88K     d88P\"   88888K     88K     d88\"\"88b888P\"  88K      \n",
    "\"Y8888b.888     888\"Y8888b.\"Y8888b.888  888888    \"Y8888b. \n",
    "     X88Y88b.   888     X88     X88Y88..88P888         X88 \n",
    " 88888P' \"Y8888P888 88888P' 88888P' \"Y88P\" 888     88888P' \n",
    "'''\n",
    "\n",
    "\n",
    "player_input = int(input(\"Enter 0 for rock, 1 for paper and 2 for scissor\\n\"))\n",
    "computer_input = random.randint(0,2)\n",
    "\n",
    "if player_input == 0:\n",
    "    print(\"player one played\")\n",
    "    print(rock)\n",
    "elif player_input == 1:\n",
    "    print(\"player one played\")\n",
    "    print(paper)\n",
    "elif player_input == 2:\n",
    "    print(\"player one played\")\n",
    "    print(scissors)\n",
    "else:\n",
    "    print(\"Enter a valid number\")\n",
    "    \n",
    "\n",
    "if computer_input == 0:\n",
    "    print(\"computer played\")\n",
    "    print(rock)\n",
    "elif computer_input == 1:\n",
    "    print(\"computer played\")\n",
    "    print(paper)\n",
    "elif computer_input == 2:\n",
    "    print(\"computer played\")\n",
    "    print(scissors)\n",
    "else:\n",
    "    print(\"You entered an invalid number\")\n",
    "    \n",
    "    \n",
    "if player_input == computer_input:\n",
    "    print(\"This round was a tie\")\n",
    "elif (player_input == 0 and computer_input == 2) or (player_input ==1 and computer_input == 0):\n",
    "    print(\"PLayer one wins\")\n",
    "else:\n",
    "    print(\"conputer wins\")"
   ]
  },
  {
   "cell_type": "markdown",
   "id": "61363a1f",
   "metadata": {},
   "source": [
    "***HEAD OR TAILS***\n"
   ]
  },
  {
   "cell_type": "code",
   "execution_count": 54,
   "id": "25d2aa40",
   "metadata": {},
   "outputs": [
    {
     "name": "stdout",
     "output_type": "stream",
     "text": [
      "Tails\n"
     ]
    }
   ],
   "source": [
    "coin_spin = random.randint(0,1)\n",
    "if coin_spin == 0:\n",
    "    print(\"Tails\")\n",
    "else:\n",
    "    print(\"Heads\")"
   ]
  },
  {
   "cell_type": "markdown",
   "id": "983ece8c",
   "metadata": {},
   "source": [
    "****LISTS****"
   ]
  },
  {
   "cell_type": "code",
   "execution_count": 77,
   "id": "20f57d2d",
   "metadata": {},
   "outputs": [
    {
     "name": "stdout",
     "output_type": "stream",
     "text": [
      "Ade is going to pay for the meals today\n"
     ]
    }
   ],
   "source": [
    "persons = [\"Ade\", \"Yemi\", \"Akin\", \"Sade\", \"Toks\", \"Aremu\"]\n",
    "person_to_pay_index = random.randint(0,len(persons)-1)\n",
    "print(persons[person_to_pay_index], \"is going to pay for the meals today\")"
   ]
  },
  {
   "cell_type": "code",
   "execution_count": null,
   "id": "a0b350f8",
   "metadata": {},
   "outputs": [],
   "source": []
  }
 ],
 "metadata": {
  "kernelspec": {
   "display_name": "Python 3 (ipykernel)",
   "language": "python",
   "name": "python3"
  },
  "language_info": {
   "codemirror_mode": {
    "name": "ipython",
    "version": 3
   },
   "file_extension": ".py",
   "mimetype": "text/x-python",
   "name": "python",
   "nbconvert_exporter": "python",
   "pygments_lexer": "ipython3",
   "version": "3.11.4"
  }
 },
 "nbformat": 4,
 "nbformat_minor": 5
}
