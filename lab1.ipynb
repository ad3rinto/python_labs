{
 "cells": [
  {
   "cell_type": "code",
   "execution_count": null,
   "id": "e3b0c1f5-c91b-4f9b-8765-3fc4accba005",
   "metadata": {},
   "outputs": [],
   "source": [
    "print(\"Welcome to the tip calculator\")"
   ]
  },
  {
   "cell_type": "code",
   "execution_count": 9,
   "id": "e94a660b-6c45-4c00-87d3-36d7e794d360",
   "metadata": {},
   "outputs": [
    {
     "ename": "ValueError",
     "evalue": "could not convert string to float: 'a'",
     "output_type": "error",
     "traceback": [
      "\u001b[1;31m---------------------------------------------------------------------------\u001b[0m",
      "\u001b[1;31mValueError\u001b[0m                                Traceback (most recent call last)",
      "\u001b[1;32mc:\\Users\\a127014\\Documents\\100days_of_python\\python_labs\\lab1.ipynb Cell 2\u001b[0m line \u001b[0;36m1\n\u001b[1;32m----> <a href='vscode-notebook-cell:/c%3A/Users/a127014/Documents/100days_of_python/python_labs/lab1.ipynb#W1sZmlsZQ%3D%3D?line=0'>1</a>\u001b[0m total_bill \u001b[39m=\u001b[39m \u001b[39mfloat\u001b[39m(\u001b[39minput\u001b[39m(\u001b[39m\"\u001b[39m\u001b[39mWhat was the total bill? \u001b[39m\u001b[39m\\n\u001b[39;00m\u001b[39m\"\u001b[39m))\n\u001b[0;32m      <a href='vscode-notebook-cell:/c%3A/Users/a127014/Documents/100days_of_python/python_labs/lab1.ipynb#W1sZmlsZQ%3D%3D?line=1'>2</a>\u001b[0m number_of_persons \u001b[39m=\u001b[39m \u001b[39mint\u001b[39m(\u001b[39minput\u001b[39m(\u001b[39m\"\u001b[39m\u001b[39mShared between how many people? \u001b[39m\u001b[39m\\n\u001b[39;00m\u001b[39m\"\u001b[39m))\n\u001b[0;32m      <a href='vscode-notebook-cell:/c%3A/Users/a127014/Documents/100days_of_python/python_labs/lab1.ipynb#W1sZmlsZQ%3D%3D?line=2'>3</a>\u001b[0m tip \u001b[39m=\u001b[39m \u001b[39mint\u001b[39m(\u001b[39minput\u001b[39m(\u001b[39m\"\u001b[39m\u001b[39mTip percent ?\u001b[39m\u001b[39m\"\u001b[39m))\n",
      "\u001b[1;31mValueError\u001b[0m: could not convert string to float: 'a'"
     ]
    }
   ],
   "source": [
    "total_bill = float(input(\"What was the total bill? \\n\"))\n",
    "number_of_persons = int(input(\"Shared between how many people? \\n\"))\n",
    "tip = int(input(\"Tip percent ?\"))\n",
    "\n",
    "amount_to_be_paid = round((total_bill/number_of_persons) *(1 + (tip/100)),2)\n",
    "\n",
    "print(f\"Each person should pay {amount_to_be_paid}\")"
   ]
  },
  {
   "cell_type": "markdown",
   "id": "452928ee-c9e6-4c29-83a9-2d6d2955c10f",
   "metadata": {},
   "source": [
    "** COnditionals**"
   ]
  },
  {
   "cell_type": "code",
   "execution_count": null,
   "id": "fc413fc3-90e5-4553-9c83-5d60544ef049",
   "metadata": {},
   "outputs": [],
   "source": [
    "print(\"Welcome to the rollercoaster\")\n",
    "height = float(input(\"HOw tall are you? \\n\"))\n",
    "if height > 1.75:\n",
    "    print(\"Enjoy the ride\")\n",
    "else:\n",
    "    print(\"SOrry, you are too short\")"
   ]
  },
  {
   "cell_type": "markdown",
   "id": "8389f953-4f0c-4900-aa48-f80b68caf755",
   "metadata": {},
   "source": [
    "***BMI Calculat0r***\n"
   ]
  },
  {
   "cell_type": "markdown",
   "id": "06efd601-b074-4d91-a5ec-02d22649b2b6",
   "metadata": {},
   "source": [
    "height = float(input(\"What is your height?\\n\"))\n",
    "weight = float(input(\"What do you weight in Kilograms??\\n\"))\n",
    "bmi = round(weight/height**2, 2)\n",
    "if bmi < 18.5:\n",
    "    print(\"You are underweight\", bmi)\n",
    "elif bmi <= 25:\n",
    "    print(\"YOu are normal\", bmi)\n",
    "elif bmi < 30:\n",
    "    print(\"you are slightly overweight\", bmi)\n",
    "else:\n",
    "    print(\"YOu are obsese\", bmi)"
   ]
  },
  {
   "cell_type": "markdown",
   "id": "54dc9c1c-f451-4220-9ee9-1ab84b7b7a31",
   "metadata": {},
   "source": [
    "***Check for Leap year***\n"
   ]
  },
  {
   "cell_type": "markdown",
   "id": "43efc477-5d35-4c04-9f95-4428db3993fa",
   "metadata": {},
   "source": [
    "birth_year = int(input(\"What year were you born? \"))\n",
    "if (birth_year %4 == 0):\n",
    "    if birth_year % 100 == 0:\n",
    "        if (birth_year %400 == 0) :\n",
    "            print(\"Leap year\")\n",
    "        else:\n",
    "            print(\"This is not leap year\", birth_year)\n",
    "    else:\n",
    "        print(\"Leap year\")\n",
    "else:\n",
    "    print(\"Not a leap year\")\n",
    "    "
   ]
  },
  {
   "cell_type": "code",
   "execution_count": null,
   "id": "fafeddf9-2e41-4ba9-afb4-62631c81da4b",
   "metadata": {},
   "outputs": [],
   "source": [
    "2000\n"
   ]
  },
  {
   "cell_type": "code",
   "execution_count": null,
   "id": "1c98459b-c913-4416-b340-3618222c5a96",
   "metadata": {},
   "outputs": [],
   "source": [
    "birth_year = int(input(\"What year were you born? \"))\n",
    "if (birth_year %4 == 0) and birth_year % 100 == 0:\n",
    "    if birth_year %400 == 0:\n",
    "        print(\"Leap year\")\n",
    "    else:\n",
    "        print('Not a leap year')\n",
    "else:\n",
    "    print(\"This is a leap year\", birth_year)"
   ]
  },
  {
   "cell_type": "markdown",
   "id": "8e74593d-cfdb-4e6b-94b0-1ed59d18b409",
   "metadata": {},
   "source": [
    "***PIZZA ORDERING SERVICE***"
   ]
  },
  {
   "cell_type": "code",
   "execution_count": null,
   "id": "586bb9b0-06e3-4fda-8ce9-8769fdcbaeab",
   "metadata": {},
   "outputs": [],
   "source": [
    "print(\"Thank you for choosing python pizza deliveries\")\n",
    "size = input(\"What size of pizza do you want ?:\\n\").lower()\n",
    "add_pep = input(\"Do you want pepperonis?, Y or NO\\n\").capitalize()\n",
    "add_cheese = input(\"Do you want extra cheese? Y or N? \\n\").capitalize()\n",
    "pizza_price ={\"l\" :20,\"m\":15,\"s\":5}\n",
    "\n",
    "bill = pizza_price[size]\n",
    "if add_pep == \"Y\":\n",
    "    bill += 5\n",
    "if add_cheese == \"Y\":\n",
    "    bill += 2.5\n",
    "\n",
    "print(bill)"
   ]
  },
  {
   "cell_type": "code",
   "execution_count": null,
   "id": "76bbeea8-9536-4a3e-acd5-ca641f529883",
   "metadata": {},
   "outputs": [],
   "source": [
    "print(\"Thank you for choosing python pizza deliveries\")\n",
    "size = input(\"What size of pizza do you want ?:\\n\").lower()\n",
    "add_pep = input(\"Do you want pepperonis?, Y or NO\\n\").capitalize()\n",
    "add_cheese = input(\"Do you want extra cheese? Y or N? \\n\").capitalize()\n",
    "pizza_price ={\"l\" :20,\"m\":15,\"s\":5}\n",
    "\n",
    "bill = pizza_price[size]\n",
    "\n",
    "if add_pep == \"y\" and add_cheese == \"y\":\n",
    "    bill += 21\n",
    "else:\n",
    "    bill += 0\n",
    "print(bill)"
   ]
  },
  {
   "cell_type": "markdown",
   "id": "913bb26e",
   "metadata": {},
   "source": [
    "****Love Calculator****\n"
   ]
  },
  {
   "cell_type": "code",
   "execution_count": null,
   "id": "a98c789e",
   "metadata": {},
   "outputs": [],
   "source": [
    "fName = input(\"Provide name 1\\n\").lower()\n",
    "sName = input(\"provide name 2\\n\").lower()\n",
    "comp_name = fName + sName\n",
    "score1 = 0\n",
    "score2 = 0\n",
    "       \n",
    "        \n",
    "t = comp_name.count(\"t\")\n",
    "r = comp_name.count(\"r\")\n",
    "u = comp_name.count(\"u\")\n",
    "e = comp_name.count(\"e\")\n",
    "\n",
    "score1 = int(t)+int(r)+int(u)+int(e)\n",
    "print(score1, \"Score 1\")\n",
    "\n",
    "l = comp_name.count(\"l\")\n",
    "o = comp_name.count(\"o\")\n",
    "v = comp_name.count(\"v\")\n",
    "e = comp_name.count(\"e\")\n",
    "\n",
    "score2 = int(l)+int(o)+int(v)+int(e)\n",
    "print(score2, \"score2\")\n",
    "\n",
    "print(f\"Your true love score is {score1}{score2}\")"
   ]
  },
  {
   "cell_type": "code",
   "execution_count": null,
   "id": "fc5207fa",
   "metadata": {},
   "outputs": [],
   "source": [
    "print('''  _               _              _               \n",
    "| |             | |            (_)              \n",
    "| |__  _   _  __| |_      _____ _ ___  ___ _ __ \n",
    "| '_ \\| | | |/ _` \\ \\ /\\ / / _ \\ / __|/ _ \\ '__|\n",
    "| |_) | |_| | (_| |\\ V  V /  __/ \\__ \\  __/ |   \n",
    "|_.__/ \\__,_|\\__,_| \\_/\\_/ \\___|_|___/\\___|_|   ''')\n",
    "\n",
    "\n",
    "print(\"Welcome to treasure Island. Your mission is to ...find the treasure. doh\")\n",
    "\n",
    "step1 =input(\"Will you like to go left or right? \\n\").lower()\n",
    "if step1 == \"right\":\n",
    "    print(\"You just fell into a hole. game over\\n\")\n",
    "elif step1 == \"left\":\n",
    "    step2 =input(\"Would you like to swim or wait? \\n\").lower()\n",
    "    if step2 == \"swim\":\n",
    "        print(\"You have been attacked by a shark. Game over\\n\")\n",
    "    elif step2 == \"wait\":\n",
    "        step3 = input(\"Which door will you like to open, Blue? Red? or Yellow?\\n\")\n",
    "        if step3 == \"blue\":\n",
    "            print(\"Eaten by beasts, game over\\n\")\n",
    "        elif step3 == \"red\":\n",
    "            print(\"Burned by fire, game over\\n\")\n",
    "        elif step3 == \"yellow\":\n",
    "            print(\"WINNNER!!!!!\")\n",
    "        else:\n",
    "            print(\"Game over\")\n",
    "    else:\n",
    "        print (\"You have entered invalid details\\n\")\n",
    "        \n",
    "else:\n",
    "    print (\"You have entered invalid details\\n\")"
   ]
  },
  {
   "cell_type": "code",
   "execution_count": null,
   "id": "309c44ec",
   "metadata": {},
   "outputs": [],
   "source": [
    "import random\n",
    "test = random.randint(0,10)\n",
    "print(test)"
   ]
  },
  {
   "cell_type": "markdown",
   "id": "fcba661c",
   "metadata": {},
   "source": [
    "*** ROCK PAPER SCISSORS***\n"
   ]
  },
  {
   "cell_type": "code",
   "execution_count": null,
   "id": "23b597ed",
   "metadata": {},
   "outputs": [],
   "source": [
    "import random\n",
    "\n",
    "rock = '''\n",
    "                                             \n",
    "                                  88         \n",
    "                                  88         \n",
    "                                  88         \n",
    "8b,dPPYba,  ,adPPYba,   ,adPPYba, 88   ,d8   \n",
    "88P'   \"Y8 a8\"     \"8a a8\"     \"\" 88 ,a8\"    \n",
    "88         8b       d8 8b         8888[      \n",
    "88         \"8a,   ,a8\" \"8a,   ,aa 88`\"Yba,   \n",
    "88          `\"YbbdP\"'   `\"Ybbd8\"' 88   `Y8a  \n",
    "\n",
    "'''\n",
    "\n",
    "paper = '''\n",
    "8b,dPPYba,  ,adPPYYba, 8b,dPPYba,   ,adPPYba, 8b,dPPYba,  \n",
    "88P'    \"8a \"\"     `Y8 88P'    \"8a a8P_____88 88P'   \"Y8  \n",
    "88       d8 ,adPPPPP88 88       d8 8PP\"\"\"\"\"\"\" 88          \n",
    "88b,   ,a8\" 88,    ,88 88b,   ,a8\" \"8b,   ,aa 88          \n",
    "88`YbbdP\"'  `\"8bbdP\"Y8 88`YbbdP\"'   `\"Ybbd8\"' 88          \n",
    "88                     88                                 \n",
    "88                     88     \n",
    "\n",
    "'''\n",
    "\n",
    "scissors = '''\n",
    ".d8888b  .d8888b888.d8888b .d8888b  .d88b. 888d888.d8888b  \n",
    "88K     d88P\"   88888K     88K     d88\"\"88b888P\"  88K      \n",
    "\"Y8888b.888     888\"Y8888b.\"Y8888b.888  888888    \"Y8888b. \n",
    "     X88Y88b.   888     X88     X88Y88..88P888         X88 \n",
    " 88888P' \"Y8888P888 88888P' 88888P' \"Y88P\" 888     88888P' \n",
    "'''\n",
    "\n",
    "\n",
    "player_input = int(input(\"Enter 0 for rock, 1 for paper and 2 for scissor\\n\"))\n",
    "computer_input = random.randint(0,2)\n",
    "\n",
    "if player_input == 0:\n",
    "    print(\"player one played\")\n",
    "    print(rock)\n",
    "elif player_input == 1:\n",
    "    print(\"player one played\")\n",
    "    print(paper)\n",
    "elif player_input == 2:\n",
    "    print(\"player one played\")\n",
    "    print(scissors)\n",
    "else:\n",
    "    print(\"Enter a valid number\")\n",
    "    \n",
    "\n",
    "if computer_input == 0:\n",
    "    print(\"computer played\")\n",
    "    print(rock)\n",
    "elif computer_input == 1:\n",
    "    print(\"computer played\")\n",
    "    print(paper)\n",
    "elif computer_input == 2:\n",
    "    print(\"computer played\")\n",
    "    print(scissors)\n",
    "else:\n",
    "    print(\"You entered an invalid number\")\n",
    "    \n",
    "    \n",
    "if player_input == computer_input:\n",
    "    print(\"This round was a tie\")\n",
    "elif (player_input == 0 and computer_input == 2) or (player_input ==1 and computer_input == 0):\n",
    "    print(\"PLayer one wins\")\n",
    "else:\n",
    "    print(\"conputer wins\")"
   ]
  },
  {
   "cell_type": "markdown",
   "id": "61363a1f",
   "metadata": {},
   "source": [
    "***HEAD OR TAILS***\n"
   ]
  },
  {
   "cell_type": "code",
   "execution_count": null,
   "id": "25d2aa40",
   "metadata": {},
   "outputs": [],
   "source": [
    "coin_spin = random.randint(0,1)\n",
    "if coin_spin == 0:\n",
    "    print(\"Tails\")\n",
    "else:\n",
    "    print(\"Heads\")"
   ]
  },
  {
   "cell_type": "markdown",
   "id": "983ece8c",
   "metadata": {},
   "source": [
    "****LISTS****"
   ]
  },
  {
   "cell_type": "code",
   "execution_count": null,
   "id": "20f57d2d",
   "metadata": {},
   "outputs": [],
   "source": [
    "import random\n",
    "persons = [\"Ade\", \"Yemi\", \"Akin\", \"Sade\", \"Toks\", \"Aremu\"]\n",
    "person_to_pay_index = random.randint(0,len(persons)-1)\n",
    "print(persons[person_to_pay_index], \"is going to pay for the meals today\")"
   ]
  },
  {
   "cell_type": "code",
   "execution_count": null,
   "id": "a0b350f8",
   "metadata": {},
   "outputs": [],
   "source": [
    "import random\n",
    "letters = \"a,b,c,d,e,f,g,i,j,k,l,m,n,o,p,q,r,s,t,u,v,w,x,y,z,A,B,C,D,E,F,G,H,I,J,K,L,M,N,O,P,Q,R,S,T,U,V,W,X,Y,Z,\"\n",
    "\n",
    "list_of_letters = letters.split(\",\")\n",
    "list_of_numbers= [1,2,3,4,5,6,7,8,9]\n",
    "list_of_symbols = [\"!\",\"£\",\"~\",\"$\",\"%\",\"*\",\"+\",\"^\",\"{\",\"?\"]\n",
    "password = []\n",
    "\n",
    "lett = int(input(\"how many letters do you want in your password?\\n\"))\n",
    "numm = int(input(\"how many numbers do you want in your password?\\n\"))\n",
    "symm = int(input(\"how many symbols do you want in your password?\\n\"))\n",
    "\n",
    "i = 0\n",
    "while i <= lett -1:\n",
    "    password.append(list_of_letters[random.randint(0, len(list_of_letters)-1)])\n",
    "    i+= 1\n",
    "    \n",
    "i = 0\n",
    "while i <= symm -1:\n",
    "    password.append(list_of_symbols[random.randint(0, len(list_of_symbols)-1)])\n",
    "    i+= 1\n",
    "    \n",
    "j = 0\n",
    "\n",
    "while j <= numm -1:\n",
    "    password.append(list_of_numbers[random.randint(0, len(list_of_numbers)-1)])\n",
    "    j+= 1\n",
    "\n",
    "random.shuffle(password)\n",
    "final_pass =\"\"\n",
    "\n",
    "for item in password:\n",
    "    final_pass += str(item)\n",
    "       \n",
    "print(f\"Here is your highly secured generated password '{final_pass}'\")\n",
    "\n"
   ]
  },
  {
   "cell_type": "code",
   "execution_count": null,
   "id": "b4a6008b",
   "metadata": {},
   "outputs": [],
   "source": []
  },
  {
   "cell_type": "markdown",
   "id": "a1c89f38",
   "metadata": {},
   "source": [
    "****avERAGING****\n"
   ]
  },
  {
   "cell_type": "code",
   "execution_count": null,
   "id": "a2d23c2f",
   "metadata": {},
   "outputs": [],
   "source": [
    "student_height = [156,178,165,171,187]\n",
    "total= 0\n",
    "for student in student_height:\n",
    "    total += student\n",
    "    ave = round(total /len(student_height))\n",
    "print(\"Average height of students is\", ave)\n",
    "print(\"Total height of students is\", total)\n",
    "print(\"Number of students is\", len(student_height))"
   ]
  },
  {
   "cell_type": "markdown",
   "id": "20f9efdd",
   "metadata": {},
   "source": []
  },
  {
   "cell_type": "markdown",
   "id": "4f7363f0",
   "metadata": {},
   "source": [
    "****High scores****"
   ]
  },
  {
   "cell_type": "code",
   "execution_count": null,
   "id": "5560f6c2",
   "metadata": {},
   "outputs": [],
   "source": [
    "numbers = [34,53,55,775,12,1, 533,1,666, 899]\n",
    "high_score =0\n",
    "\n",
    "for num in numbers:\n",
    "    if num > high_score:\n",
    "        high_score = num\n",
    "print(high_score)"
   ]
  },
  {
   "cell_type": "code",
   "execution_count": null,
   "id": "8d72f2b9",
   "metadata": {},
   "outputs": [],
   "source": [
    "for num in range(1,101):\n",
    "    if num % 5 == 0 and num % 3 == 0:\n",
    "        print(\"Fizzbuzz\")\n",
    "    elif num % 3 == 0:\n",
    "        print(\"fizz\")\n",
    "    elif num % 5 == 0:\n",
    "        print(\"Buzz\")\n",
    "    else:\n",
    "        print(num)"
   ]
  },
  {
   "cell_type": "markdown",
   "id": "aa842daf",
   "metadata": {},
   "source": [
    "****Hangman start****\n"
   ]
  },
  {
   "cell_type": "markdown",
   "id": "bf9cd460",
   "metadata": {},
   "source": []
  },
  {
   "cell_type": "code",
   "execution_count": null,
   "id": "05caf438",
   "metadata": {},
   "outputs": [],
   "source": []
  },
  {
   "cell_type": "code",
   "execution_count": 1,
   "id": "ab01b0f4",
   "metadata": {},
   "outputs": [
    {
     "name": "stdout",
     "output_type": "stream",
     "text": [
      "The chose word is ogunlola\n",
      "['_', '_', '_', '_', '_', '_', '_', '_']\n",
      "['_', '_', '_', '_', '_', '_', '_', 'a']\n",
      "['_', '_', '_', '_', 'l', '_', 'l', 'a']\n",
      "['o', '_', '_', '_', 'l', 'o', 'l', 'a']\n",
      "['o', 'g', '_', '_', 'l', 'o', 'l', 'a']\n",
      "['o', 'g', 'u', '_', 'l', 'o', 'l', 'a']\n",
      "['o', 'g', 'u', 'n', 'l', 'o', 'l', 'a']\n",
      "['o', 'g', 'u', 'n', 'l', 'o', 'l', 'a']\n"
     ]
    }
   ],
   "source": [
    "import random\n",
    "word_list = [\"Wale\", \"akingbade\", \"oludegub\", \"abifarin\", \"agunbiade\", \"ogunlola\"]\n",
    "chosen_word = random.choice(word_list)\n",
    "chosen_list =list(chosen_word)\n",
    "print(f\"The chose word is {chosen_word}\")\n",
    "printed=[]\n",
    "\n",
    "\n",
    "for letter in chosen_list:\n",
    "    printed += \"_\"\n",
    "print(printed)\n",
    "    \n",
    "    \n",
    "\n",
    "for i in range(len(chosen_list)-1):\n",
    "        \n",
    "    user_choice = input(\"GUess a letter? \\n\").lower()\n",
    "    for position in range(len(chosen_list)):\n",
    "        letter = chosen_list[position]\n",
    "        if letter == user_choice:\n",
    "            printed[position] = letter\n",
    "                  \n",
    "    print(printed)\n",
    "\n"
   ]
  },
  {
   "cell_type": "markdown",
   "id": "01aaae13",
   "metadata": {},
   "source": []
  },
  {
   "cell_type": "markdown",
   "id": "122e8d1c",
   "metadata": {},
   "source": []
  },
  {
   "cell_type": "markdown",
   "id": "2f1391ca",
   "metadata": {},
   "source": []
  }
 ],
 "metadata": {
  "kernelspec": {
   "display_name": "Python 3 (ipykernel)",
   "language": "python",
   "name": "python3"
  },
  "language_info": {
   "codemirror_mode": {
    "name": "ipython",
    "version": 3
   },
   "file_extension": ".py",
   "mimetype": "text/x-python",
   "name": "python",
   "nbconvert_exporter": "python",
   "pygments_lexer": "ipython3",
   "version": "3.11.4"
  }
 },
 "nbformat": 4,
 "nbformat_minor": 5
}
