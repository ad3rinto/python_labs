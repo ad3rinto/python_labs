{
 "cells": [
  {
   "cell_type": "code",
   "execution_count": 1,
   "id": "e3b0c1f5-c91b-4f9b-8765-3fc4accba005",
   "metadata": {},
   "outputs": [
    {
     "name": "stdout",
     "output_type": "stream",
     "text": [
      "Welcome to the tip calculator\n"
     ]
    }
   ],
   "source": [
    "print(\"Welcome to the tip calculator\")"
   ]
  },
  {
   "cell_type": "code",
   "execution_count": 2,
   "id": "e94a660b-6c45-4c00-87d3-36d7e794d360",
   "metadata": {},
   "outputs": [
    {
     "name": "stdin",
     "output_type": "stream",
     "text": [
      "What was the total bill? \n",
      " 233\n",
      "Shared between how many people? \n",
      " 3\n",
      "Tip percent ? 10\n"
     ]
    },
    {
     "name": "stdout",
     "output_type": "stream",
     "text": [
      "Each person should pay 85.43\n"
     ]
    }
   ],
   "source": [
    "total_bill = float(input(\"What was the total bill? \\n\"))\n",
    "number_of_persons = int(input(\"Shared between how many people? \\n\"))\n",
    "tip = int(input(\"Tip percent ?\"))\n",
    "\n",
    "amount_to_be_paid = round((total_bill/number_of_persons) *(1 + (tip/100)),2)\n",
    "\n",
    "print(f\"Each person should pay {amount_to_be_paid}\")"
   ]
  },
  {
   "cell_type": "code",
   "execution_count": null,
   "id": "1c12a413-650c-4a59-8255-c75f05f2e433",
   "metadata": {},
   "outputs": [],
   "source": []
  }
 ],
 "metadata": {
  "kernelspec": {
   "display_name": "Python 3 (ipykernel)",
   "language": "python",
   "name": "python3"
  },
  "language_info": {
   "codemirror_mode": {
    "name": "ipython",
    "version": 3
   },
   "file_extension": ".py",
   "mimetype": "text/x-python",
   "name": "python",
   "nbconvert_exporter": "python",
   "pygments_lexer": "ipython3",
   "version": "3.9.13"
  }
 },
 "nbformat": 4,
 "nbformat_minor": 5
}
